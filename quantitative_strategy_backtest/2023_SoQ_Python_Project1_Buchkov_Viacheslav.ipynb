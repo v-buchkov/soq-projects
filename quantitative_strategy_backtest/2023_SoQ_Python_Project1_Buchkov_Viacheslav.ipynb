{
  "nbformat": 4,
  "nbformat_minor": 0,
  "metadata": {
    "colab": {
      "provenance": []
    },
    "kernelspec": {
      "name": "python3",
      "display_name": "Python 3"
    },
    "language_info": {
      "name": "python"
    }
  },
  "cells": [
    {
      "cell_type": "markdown",
      "source": [
        "# School of Quants. Python. Project №1.\n",
        "\n",
        "### Buchkov Viacheslav"
      ],
      "metadata": {
        "id": "j4YuT6_69bHt"
      }
    },
    {
      "cell_type": "markdown",
      "source": [
        "The project is concentrated on implementation of strategy, based on VPiN and Order Imbalance that allow to detect toxic order flow by Marcos Lopez de Prado et al.\n",
        "\n",
        "The article for implemetation is https://papers.ssrn.com/sol3/papers.cfm?abstract_id=1695596."
      ],
      "metadata": {
        "id": "UDOe7CbU9xGv"
      }
    },
    {
      "cell_type": "code",
      "source": [
        "!pip install vectorbt"
      ],
      "metadata": {
        "colab": {
          "base_uri": "https://localhost:8080/"
        },
        "id": "aCQXRepfcS8l",
        "outputId": "a55eddad-629e-4853-d6c1-e49729b98cc3"
      },
      "execution_count": 1,
      "outputs": [
        {
          "output_type": "stream",
          "name": "stdout",
          "text": [
            "Requirement already satisfied: vectorbt in /usr/local/lib/python3.10/dist-packages (0.25.5)\n",
            "Requirement already satisfied: numpy>=1.16.5 in /usr/local/lib/python3.10/dist-packages (from vectorbt) (1.23.5)\n",
            "Requirement already satisfied: pandas in /usr/local/lib/python3.10/dist-packages (from vectorbt) (1.5.3)\n",
            "Requirement already satisfied: scipy in /usr/local/lib/python3.10/dist-packages (from vectorbt) (1.11.4)\n",
            "Requirement already satisfied: matplotlib in /usr/local/lib/python3.10/dist-packages (from vectorbt) (3.7.1)\n",
            "Requirement already satisfied: plotly>=4.12.0 in /usr/local/lib/python3.10/dist-packages (from vectorbt) (5.15.0)\n",
            "Requirement already satisfied: ipywidgets>=7.0.0 in /usr/local/lib/python3.10/dist-packages (from vectorbt) (7.7.1)\n",
            "Requirement already satisfied: dill in /usr/local/lib/python3.10/dist-packages (from vectorbt) (0.3.7)\n",
            "Requirement already satisfied: tqdm in /usr/local/lib/python3.10/dist-packages (from vectorbt) (4.66.1)\n",
            "Requirement already satisfied: dateparser in /usr/local/lib/python3.10/dist-packages (from vectorbt) (1.2.0)\n",
            "Requirement already satisfied: imageio in /usr/local/lib/python3.10/dist-packages (from vectorbt) (2.31.6)\n",
            "Requirement already satisfied: scikit-learn in /usr/local/lib/python3.10/dist-packages (from vectorbt) (1.2.2)\n",
            "Requirement already satisfied: schedule in /usr/local/lib/python3.10/dist-packages (from vectorbt) (1.2.1)\n",
            "Requirement already satisfied: requests in /usr/local/lib/python3.10/dist-packages (from vectorbt) (2.31.0)\n",
            "Requirement already satisfied: pytz in /usr/local/lib/python3.10/dist-packages (from vectorbt) (2023.3.post1)\n",
            "Requirement already satisfied: mypy-extensions in /usr/local/lib/python3.10/dist-packages (from vectorbt) (1.0.0)\n",
            "Requirement already satisfied: numba<0.57.0,>=0.56.0 in /usr/local/lib/python3.10/dist-packages (from vectorbt) (0.56.4)\n",
            "Requirement already satisfied: ipykernel>=4.5.1 in /usr/local/lib/python3.10/dist-packages (from ipywidgets>=7.0.0->vectorbt) (5.5.6)\n",
            "Requirement already satisfied: ipython-genutils~=0.2.0 in /usr/local/lib/python3.10/dist-packages (from ipywidgets>=7.0.0->vectorbt) (0.2.0)\n",
            "Requirement already satisfied: traitlets>=4.3.1 in /usr/local/lib/python3.10/dist-packages (from ipywidgets>=7.0.0->vectorbt) (5.7.1)\n",
            "Requirement already satisfied: widgetsnbextension~=3.6.0 in /usr/local/lib/python3.10/dist-packages (from ipywidgets>=7.0.0->vectorbt) (3.6.6)\n",
            "Requirement already satisfied: ipython>=4.0.0 in /usr/local/lib/python3.10/dist-packages (from ipywidgets>=7.0.0->vectorbt) (7.34.0)\n",
            "Requirement already satisfied: jupyterlab-widgets>=1.0.0 in /usr/local/lib/python3.10/dist-packages (from ipywidgets>=7.0.0->vectorbt) (3.0.9)\n",
            "Requirement already satisfied: llvmlite<0.40,>=0.39.0dev0 in /usr/local/lib/python3.10/dist-packages (from numba<0.57.0,>=0.56.0->vectorbt) (0.39.1)\n",
            "Requirement already satisfied: setuptools in /usr/local/lib/python3.10/dist-packages (from numba<0.57.0,>=0.56.0->vectorbt) (67.7.2)\n",
            "Requirement already satisfied: tenacity>=6.2.0 in /usr/local/lib/python3.10/dist-packages (from plotly>=4.12.0->vectorbt) (8.2.3)\n",
            "Requirement already satisfied: packaging in /usr/local/lib/python3.10/dist-packages (from plotly>=4.12.0->vectorbt) (23.2)\n",
            "Requirement already satisfied: python-dateutil in /usr/local/lib/python3.10/dist-packages (from dateparser->vectorbt) (2.8.2)\n",
            "Requirement already satisfied: regex!=2019.02.19,!=2021.8.27 in /usr/local/lib/python3.10/dist-packages (from dateparser->vectorbt) (2023.6.3)\n",
            "Requirement already satisfied: tzlocal in /usr/local/lib/python3.10/dist-packages (from dateparser->vectorbt) (5.2)\n",
            "Requirement already satisfied: pillow<10.1.0,>=8.3.2 in /usr/local/lib/python3.10/dist-packages (from imageio->vectorbt) (9.4.0)\n",
            "Requirement already satisfied: contourpy>=1.0.1 in /usr/local/lib/python3.10/dist-packages (from matplotlib->vectorbt) (1.2.0)\n",
            "Requirement already satisfied: cycler>=0.10 in /usr/local/lib/python3.10/dist-packages (from matplotlib->vectorbt) (0.12.1)\n",
            "Requirement already satisfied: fonttools>=4.22.0 in /usr/local/lib/python3.10/dist-packages (from matplotlib->vectorbt) (4.47.2)\n",
            "Requirement already satisfied: kiwisolver>=1.0.1 in /usr/local/lib/python3.10/dist-packages (from matplotlib->vectorbt) (1.4.5)\n",
            "Requirement already satisfied: pyparsing>=2.3.1 in /usr/local/lib/python3.10/dist-packages (from matplotlib->vectorbt) (3.1.1)\n",
            "Requirement already satisfied: charset-normalizer<4,>=2 in /usr/local/lib/python3.10/dist-packages (from requests->vectorbt) (3.3.2)\n",
            "Requirement already satisfied: idna<4,>=2.5 in /usr/local/lib/python3.10/dist-packages (from requests->vectorbt) (3.6)\n",
            "Requirement already satisfied: urllib3<3,>=1.21.1 in /usr/local/lib/python3.10/dist-packages (from requests->vectorbt) (2.0.7)\n",
            "Requirement already satisfied: certifi>=2017.4.17 in /usr/local/lib/python3.10/dist-packages (from requests->vectorbt) (2023.11.17)\n",
            "Requirement already satisfied: joblib>=1.1.1 in /usr/local/lib/python3.10/dist-packages (from scikit-learn->vectorbt) (1.3.2)\n",
            "Requirement already satisfied: threadpoolctl>=2.0.0 in /usr/local/lib/python3.10/dist-packages (from scikit-learn->vectorbt) (3.2.0)\n",
            "Requirement already satisfied: jupyter-client in /usr/local/lib/python3.10/dist-packages (from ipykernel>=4.5.1->ipywidgets>=7.0.0->vectorbt) (6.1.12)\n",
            "Requirement already satisfied: tornado>=4.2 in /usr/local/lib/python3.10/dist-packages (from ipykernel>=4.5.1->ipywidgets>=7.0.0->vectorbt) (6.3.2)\n",
            "Requirement already satisfied: jedi>=0.16 in /usr/local/lib/python3.10/dist-packages (from ipython>=4.0.0->ipywidgets>=7.0.0->vectorbt) (0.19.1)\n",
            "Requirement already satisfied: decorator in /usr/local/lib/python3.10/dist-packages (from ipython>=4.0.0->ipywidgets>=7.0.0->vectorbt) (4.4.2)\n",
            "Requirement already satisfied: pickleshare in /usr/local/lib/python3.10/dist-packages (from ipython>=4.0.0->ipywidgets>=7.0.0->vectorbt) (0.7.5)\n",
            "Requirement already satisfied: prompt-toolkit!=3.0.0,!=3.0.1,<3.1.0,>=2.0.0 in /usr/local/lib/python3.10/dist-packages (from ipython>=4.0.0->ipywidgets>=7.0.0->vectorbt) (3.0.43)\n",
            "Requirement already satisfied: pygments in /usr/local/lib/python3.10/dist-packages (from ipython>=4.0.0->ipywidgets>=7.0.0->vectorbt) (2.16.1)\n",
            "Requirement already satisfied: backcall in /usr/local/lib/python3.10/dist-packages (from ipython>=4.0.0->ipywidgets>=7.0.0->vectorbt) (0.2.0)\n",
            "Requirement already satisfied: matplotlib-inline in /usr/local/lib/python3.10/dist-packages (from ipython>=4.0.0->ipywidgets>=7.0.0->vectorbt) (0.1.6)\n",
            "Requirement already satisfied: pexpect>4.3 in /usr/local/lib/python3.10/dist-packages (from ipython>=4.0.0->ipywidgets>=7.0.0->vectorbt) (4.9.0)\n",
            "Requirement already satisfied: six>=1.5 in /usr/local/lib/python3.10/dist-packages (from python-dateutil->dateparser->vectorbt) (1.16.0)\n",
            "Requirement already satisfied: notebook>=4.4.1 in /usr/local/lib/python3.10/dist-packages (from widgetsnbextension~=3.6.0->ipywidgets>=7.0.0->vectorbt) (6.5.5)\n",
            "Requirement already satisfied: parso<0.9.0,>=0.8.3 in /usr/local/lib/python3.10/dist-packages (from jedi>=0.16->ipython>=4.0.0->ipywidgets>=7.0.0->vectorbt) (0.8.3)\n",
            "Requirement already satisfied: jinja2 in /usr/local/lib/python3.10/dist-packages (from notebook>=4.4.1->widgetsnbextension~=3.6.0->ipywidgets>=7.0.0->vectorbt) (3.1.3)\n",
            "Requirement already satisfied: pyzmq<25,>=17 in /usr/local/lib/python3.10/dist-packages (from notebook>=4.4.1->widgetsnbextension~=3.6.0->ipywidgets>=7.0.0->vectorbt) (23.2.1)\n",
            "Requirement already satisfied: argon2-cffi in /usr/local/lib/python3.10/dist-packages (from notebook>=4.4.1->widgetsnbextension~=3.6.0->ipywidgets>=7.0.0->vectorbt) (23.1.0)\n",
            "Requirement already satisfied: jupyter-core>=4.6.1 in /usr/local/lib/python3.10/dist-packages (from notebook>=4.4.1->widgetsnbextension~=3.6.0->ipywidgets>=7.0.0->vectorbt) (5.7.1)\n",
            "Requirement already satisfied: nbformat in /usr/local/lib/python3.10/dist-packages (from notebook>=4.4.1->widgetsnbextension~=3.6.0->ipywidgets>=7.0.0->vectorbt) (5.9.2)\n",
            "Requirement already satisfied: nbconvert>=5 in /usr/local/lib/python3.10/dist-packages (from notebook>=4.4.1->widgetsnbextension~=3.6.0->ipywidgets>=7.0.0->vectorbt) (6.5.4)\n",
            "Requirement already satisfied: nest-asyncio>=1.5 in /usr/local/lib/python3.10/dist-packages (from notebook>=4.4.1->widgetsnbextension~=3.6.0->ipywidgets>=7.0.0->vectorbt) (1.5.9)\n",
            "Requirement already satisfied: Send2Trash>=1.8.0 in /usr/local/lib/python3.10/dist-packages (from notebook>=4.4.1->widgetsnbextension~=3.6.0->ipywidgets>=7.0.0->vectorbt) (1.8.2)\n",
            "Requirement already satisfied: terminado>=0.8.3 in /usr/local/lib/python3.10/dist-packages (from notebook>=4.4.1->widgetsnbextension~=3.6.0->ipywidgets>=7.0.0->vectorbt) (0.18.0)\n",
            "Requirement already satisfied: prometheus-client in /usr/local/lib/python3.10/dist-packages (from notebook>=4.4.1->widgetsnbextension~=3.6.0->ipywidgets>=7.0.0->vectorbt) (0.19.0)\n",
            "Requirement already satisfied: nbclassic>=0.4.7 in /usr/local/lib/python3.10/dist-packages (from notebook>=4.4.1->widgetsnbextension~=3.6.0->ipywidgets>=7.0.0->vectorbt) (1.0.0)\n",
            "Requirement already satisfied: ptyprocess>=0.5 in /usr/local/lib/python3.10/dist-packages (from pexpect>4.3->ipython>=4.0.0->ipywidgets>=7.0.0->vectorbt) (0.7.0)\n",
            "Requirement already satisfied: wcwidth in /usr/local/lib/python3.10/dist-packages (from prompt-toolkit!=3.0.0,!=3.0.1,<3.1.0,>=2.0.0->ipython>=4.0.0->ipywidgets>=7.0.0->vectorbt) (0.2.13)\n",
            "Requirement already satisfied: platformdirs>=2.5 in /usr/local/lib/python3.10/dist-packages (from jupyter-core>=4.6.1->notebook>=4.4.1->widgetsnbextension~=3.6.0->ipywidgets>=7.0.0->vectorbt) (4.1.0)\n",
            "Requirement already satisfied: jupyter-server>=1.8 in /usr/local/lib/python3.10/dist-packages (from nbclassic>=0.4.7->notebook>=4.4.1->widgetsnbextension~=3.6.0->ipywidgets>=7.0.0->vectorbt) (1.24.0)\n",
            "Requirement already satisfied: notebook-shim>=0.2.3 in /usr/local/lib/python3.10/dist-packages (from nbclassic>=0.4.7->notebook>=4.4.1->widgetsnbextension~=3.6.0->ipywidgets>=7.0.0->vectorbt) (0.2.3)\n",
            "Requirement already satisfied: lxml in /usr/local/lib/python3.10/dist-packages (from nbconvert>=5->notebook>=4.4.1->widgetsnbextension~=3.6.0->ipywidgets>=7.0.0->vectorbt) (4.9.4)\n",
            "Requirement already satisfied: beautifulsoup4 in /usr/local/lib/python3.10/dist-packages (from nbconvert>=5->notebook>=4.4.1->widgetsnbextension~=3.6.0->ipywidgets>=7.0.0->vectorbt) (4.11.2)\n",
            "Requirement already satisfied: bleach in /usr/local/lib/python3.10/dist-packages (from nbconvert>=5->notebook>=4.4.1->widgetsnbextension~=3.6.0->ipywidgets>=7.0.0->vectorbt) (6.1.0)\n",
            "Requirement already satisfied: defusedxml in /usr/local/lib/python3.10/dist-packages (from nbconvert>=5->notebook>=4.4.1->widgetsnbextension~=3.6.0->ipywidgets>=7.0.0->vectorbt) (0.7.1)\n",
            "Requirement already satisfied: entrypoints>=0.2.2 in /usr/local/lib/python3.10/dist-packages (from nbconvert>=5->notebook>=4.4.1->widgetsnbextension~=3.6.0->ipywidgets>=7.0.0->vectorbt) (0.4)\n",
            "Requirement already satisfied: jupyterlab-pygments in /usr/local/lib/python3.10/dist-packages (from nbconvert>=5->notebook>=4.4.1->widgetsnbextension~=3.6.0->ipywidgets>=7.0.0->vectorbt) (0.3.0)\n",
            "Requirement already satisfied: MarkupSafe>=2.0 in /usr/local/lib/python3.10/dist-packages (from nbconvert>=5->notebook>=4.4.1->widgetsnbextension~=3.6.0->ipywidgets>=7.0.0->vectorbt) (2.1.3)\n",
            "Requirement already satisfied: mistune<2,>=0.8.1 in /usr/local/lib/python3.10/dist-packages (from nbconvert>=5->notebook>=4.4.1->widgetsnbextension~=3.6.0->ipywidgets>=7.0.0->vectorbt) (0.8.4)\n",
            "Requirement already satisfied: nbclient>=0.5.0 in /usr/local/lib/python3.10/dist-packages (from nbconvert>=5->notebook>=4.4.1->widgetsnbextension~=3.6.0->ipywidgets>=7.0.0->vectorbt) (0.9.0)\n",
            "Requirement already satisfied: pandocfilters>=1.4.1 in /usr/local/lib/python3.10/dist-packages (from nbconvert>=5->notebook>=4.4.1->widgetsnbextension~=3.6.0->ipywidgets>=7.0.0->vectorbt) (1.5.0)\n",
            "Requirement already satisfied: tinycss2 in /usr/local/lib/python3.10/dist-packages (from nbconvert>=5->notebook>=4.4.1->widgetsnbextension~=3.6.0->ipywidgets>=7.0.0->vectorbt) (1.2.1)\n",
            "Requirement already satisfied: fastjsonschema in /usr/local/lib/python3.10/dist-packages (from nbformat->notebook>=4.4.1->widgetsnbextension~=3.6.0->ipywidgets>=7.0.0->vectorbt) (2.19.1)\n",
            "Requirement already satisfied: jsonschema>=2.6 in /usr/local/lib/python3.10/dist-packages (from nbformat->notebook>=4.4.1->widgetsnbextension~=3.6.0->ipywidgets>=7.0.0->vectorbt) (4.19.2)\n",
            "Requirement already satisfied: argon2-cffi-bindings in /usr/local/lib/python3.10/dist-packages (from argon2-cffi->notebook>=4.4.1->widgetsnbextension~=3.6.0->ipywidgets>=7.0.0->vectorbt) (21.2.0)\n",
            "Requirement already satisfied: attrs>=22.2.0 in /usr/local/lib/python3.10/dist-packages (from jsonschema>=2.6->nbformat->notebook>=4.4.1->widgetsnbextension~=3.6.0->ipywidgets>=7.0.0->vectorbt) (23.2.0)\n",
            "Requirement already satisfied: jsonschema-specifications>=2023.03.6 in /usr/local/lib/python3.10/dist-packages (from jsonschema>=2.6->nbformat->notebook>=4.4.1->widgetsnbextension~=3.6.0->ipywidgets>=7.0.0->vectorbt) (2023.12.1)\n",
            "Requirement already satisfied: referencing>=0.28.4 in /usr/local/lib/python3.10/dist-packages (from jsonschema>=2.6->nbformat->notebook>=4.4.1->widgetsnbextension~=3.6.0->ipywidgets>=7.0.0->vectorbt) (0.32.1)\n",
            "Requirement already satisfied: rpds-py>=0.7.1 in /usr/local/lib/python3.10/dist-packages (from jsonschema>=2.6->nbformat->notebook>=4.4.1->widgetsnbextension~=3.6.0->ipywidgets>=7.0.0->vectorbt) (0.17.1)\n",
            "Requirement already satisfied: anyio<4,>=3.1.0 in /usr/local/lib/python3.10/dist-packages (from jupyter-server>=1.8->nbclassic>=0.4.7->notebook>=4.4.1->widgetsnbextension~=3.6.0->ipywidgets>=7.0.0->vectorbt) (3.7.1)\n",
            "Requirement already satisfied: websocket-client in /usr/local/lib/python3.10/dist-packages (from jupyter-server>=1.8->nbclassic>=0.4.7->notebook>=4.4.1->widgetsnbextension~=3.6.0->ipywidgets>=7.0.0->vectorbt) (1.7.0)\n",
            "Requirement already satisfied: cffi>=1.0.1 in /usr/local/lib/python3.10/dist-packages (from argon2-cffi-bindings->argon2-cffi->notebook>=4.4.1->widgetsnbextension~=3.6.0->ipywidgets>=7.0.0->vectorbt) (1.16.0)\n",
            "Requirement already satisfied: soupsieve>1.2 in /usr/local/lib/python3.10/dist-packages (from beautifulsoup4->nbconvert>=5->notebook>=4.4.1->widgetsnbextension~=3.6.0->ipywidgets>=7.0.0->vectorbt) (2.5)\n",
            "Requirement already satisfied: webencodings in /usr/local/lib/python3.10/dist-packages (from bleach->nbconvert>=5->notebook>=4.4.1->widgetsnbextension~=3.6.0->ipywidgets>=7.0.0->vectorbt) (0.5.1)\n",
            "Requirement already satisfied: sniffio>=1.1 in /usr/local/lib/python3.10/dist-packages (from anyio<4,>=3.1.0->jupyter-server>=1.8->nbclassic>=0.4.7->notebook>=4.4.1->widgetsnbextension~=3.6.0->ipywidgets>=7.0.0->vectorbt) (1.3.0)\n",
            "Requirement already satisfied: exceptiongroup in /usr/local/lib/python3.10/dist-packages (from anyio<4,>=3.1.0->jupyter-server>=1.8->nbclassic>=0.4.7->notebook>=4.4.1->widgetsnbextension~=3.6.0->ipywidgets>=7.0.0->vectorbt) (1.2.0)\n",
            "Requirement already satisfied: pycparser in /usr/local/lib/python3.10/dist-packages (from cffi>=1.0.1->argon2-cffi-bindings->argon2-cffi->notebook>=4.4.1->widgetsnbextension~=3.6.0->ipywidgets>=7.0.0->vectorbt) (2.21)\n"
          ]
        }
      ]
    },
    {
      "cell_type": "code",
      "source": [
        "import numpy as np\n",
        "import datetime as dt\n",
        "import pandas as pd\n",
        "from scipy.stats import norm\n",
        "import vectorbt as vbt"
      ],
      "metadata": {
        "id": "N9z787QsYlig"
      },
      "execution_count": 2,
      "outputs": []
    },
    {
      "cell_type": "markdown",
      "source": [
        "Data is stored on Google Drive - let's mount it for quick access."
      ],
      "metadata": {
        "id": "A0lLOTcv9o3d"
      }
    },
    {
      "cell_type": "code",
      "execution_count": 3,
      "metadata": {
        "colab": {
          "base_uri": "https://localhost:8080/"
        },
        "id": "OY9NK4-RaVgB",
        "outputId": "b0fd952e-58c9-468f-a213-975e833f4229"
      },
      "outputs": [
        {
          "output_type": "stream",
          "name": "stdout",
          "text": [
            "Drive already mounted at /content/drive; to attempt to forcibly remount, call drive.mount(\"/content/drive\", force_remount=True).\n"
          ]
        }
      ],
      "source": [
        "from google.colab import drive\n",
        "drive.mount('/content/drive')\n",
        "\n",
        "PATH = 'drive/MyDrive/'\n",
        "ASSET = 'USDRUB'"
      ]
    },
    {
      "cell_type": "markdown",
      "source": [
        "First of all, let's implement configs for Hyperparams and Trading Simulation."
      ],
      "metadata": {
        "id": "w-pKUsgC-WHl"
      }
    },
    {
      "cell_type": "code",
      "source": [
        "from dataclasses import dataclass\n",
        "\n",
        "# Strategy hyperparams - set to the most agressive level initially (not tuned, as cross-val is disallowed in the Project 1)\n",
        "@dataclass\n",
        "class StrategyHyperparams:\n",
        "    vpin_threshold: float = .0\n",
        "    imbalance_threshold: float = .0\n",
        "\n",
        "@dataclass\n",
        "class TradingParams:\n",
        "    initial_capital: float = 20_000_000\n",
        "    leverage: float = 1.\n",
        "    commission_fee: float = 0.1"
      ],
      "metadata": {
        "id": "9mXcaupfzvAs"
      },
      "execution_count": 4,
      "outputs": []
    },
    {
      "cell_type": "markdown",
      "source": [
        "Next, we need to create an OOP framework that will produce trading signals, based on the article's definitions and ideas.\n",
        "\n",
        "Let's use VPiN as the metric for the flow toxicity (if we see toxic flow, i.e. VPiN is high, something is happening, thus, there is posibility of informed trading, which we can use). For the direction of the potential movement, let's check market-makers' imbalance of quotes."
      ],
      "metadata": {
        "id": "IVPeewLf-gGG"
      }
    },
    {
      "cell_type": "code",
      "source": [
        "import pandas as pd\n",
        "\n",
        "\n",
        "class VpinStrategy:\n",
        "    \"\"\"Trading strategy implementation that produces trading signals time series.\n",
        "\n",
        "    Strategy is based on two parameters - VPiN (The Volume Synchronized Probability of\n",
        "    INformed Trading) and Quotation Imbalance as per Flow Toxicity and Volatility (http://ssrn.com/abstract=1695596),\n",
        "    David Easley (Cornell University), Marcos López de Prado (Tudor Investment Corp., RCC at Harvard University) and\n",
        "    Maureen O'Hara (Cornell University).\n",
        "\n",
        "    Attributes:\n",
        "        RESAMPLE_PERIOD (str): Timeframe at which the strategy operates (as per pandas definition).\n",
        "        WINDOW_LENGTH (str): Timebars window length.\n",
        "        BUCKET_SIZE (int): Size of the base asset's trading volume that is considered to be \"standard\".\n",
        "\n",
        "    \"\"\"\n",
        "    RESAMPLE_PERIOD = '1min'\n",
        "    WINDOW_LENGTH = 50\n",
        "    BUCKET_SIZE = 1_000_000\n",
        "\n",
        "    def __init__(\n",
        "            self,\n",
        "            vpin_threshold: float,\n",
        "            imbalance_threshold: float,\n",
        "            weight_increase: float,\n",
        "            max_leverage: float,\n",
        "            trades: pd.DataFrame,\n",
        "            quotes: pd.DataFrame,\n",
        "    ):\n",
        "        \"\"\"__init__ method.\n",
        "\n",
        "        Args:\n",
        "            vpin_threshold (float): Threshold for VPIN-based \"Buy\"/\"Sell\" signal, hyperparameter.\n",
        "            imbalance_threshold (float): Threshold for QuoteImbalance-based \"Buy\"/\"Sell\" signal, hyperparameter.\n",
        "            weight_increase (float): Level by which the position changes (in %), when there is trading\n",
        "                                     signal, hyperparamemeter.\n",
        "            max_leverage (float): Maximum level of leverage, allowed in the strategy.\n",
        "            trades (pd.DataFrame): Dataset of trades data that should include VWAP prices and volumes for each\n",
        "                                   timestamp.\n",
        "            quotes (pd.DataFrame): Dataset of orderbook VWAP bid-ask quotes (already calculated)\n",
        "\n",
        "        \"\"\"\n",
        "        self.vpin_threshold = vpin_threshold\n",
        "        self.imbalance_treshold = imbalance_threshold\n",
        "\n",
        "        self.weight_increase = weight_increase\n",
        "        self.max_leverage = max_leverage\n",
        "\n",
        "        self.trades = trades\n",
        "        self.quotes = quotes\n",
        "\n",
        "        # Initialize attributes that hold data in the instance\n",
        "        self._dataset = None\n",
        "        self._weights = None\n",
        "\n",
        "    def get_z_score(self, feature: pd.Series, max_sigmas: float = 3.) -> pd.Series:\n",
        "        \"\"\"Calculate z-score for given distribution of values and restrict by max_sigmas value.\n",
        "\n",
        "        Args:\n",
        "            feature (pd.Series): Some feature value, assumed to follow chosen distribution.\n",
        "            max_sigmas (float): Maximum number of sigmas that is considered to be critical for chosen distribution.\n",
        "\n",
        "        Returns:\n",
        "            pd.Series.\n",
        "\n",
        "        \"\"\"\n",
        "        # Get rolling mean and std\n",
        "        mean = feature.rolling(window=self.WINDOW_LENGTH).mean()\n",
        "        std = feature.rolling(window=self.WINDOW_LENGTH).std()\n",
        "\n",
        "        # Compute z-scores\n",
        "        z_scores = (feature - mean) / std\n",
        "        z_scores[z_scores > max_sigmas] = max_sigmas\n",
        "        z_scores[z_scores < -max_sigmas] = -max_sigmas\n",
        "\n",
        "        return z_scores\n",
        "\n",
        "    def _init_dataset(self) -> None:\n",
        "        \"\"\"Initialize the dataset from trades and quotes data (in-place).\"\"\"\n",
        "        # Dispense from the timestamp UTC\n",
        "        self.trades['time'] = pd.to_datetime(self.trades['time']).dt.tz_localize(None)\n",
        "        self.quotes['time'] = pd.to_datetime(self.quotes['time']).dt.tz_localize(None)\n",
        "\n",
        "        # Order trades and quotes\n",
        "        self.trades.sort_values('time', inplace=True)\n",
        "        self.quotes.sort_values('time', inplace=True)\n",
        "\n",
        "        # Reset indices and merge two datasets by nearest timestamp value\n",
        "        # inside (!) a minute (will trade next minute, so no bias produced)\n",
        "        quotes_reindex = self.quotes.set_index('time').reindex(self.trades.set_index('time').index,\n",
        "                                                               method='nearest').reset_index()\n",
        "        self._dataset = pd.merge(self.trades, quotes_reindex, on='time').set_index('time')\n",
        "\n",
        "    def _add_quote_volumes(self) -> None:\n",
        "        \"\"\"Add bid and ask quotation volumes from share_of_bids data (in-place).\"\"\"\n",
        "        self._dataset['bid_volume'] = self._dataset['volume_traded'] * self._dataset['share_of_bids']\n",
        "        self._dataset['ask_volume'] = self._dataset['volume_traded'] * (1 - self._dataset['share_of_bids'])\n",
        "\n",
        "    def _create_buckets(self, df_in: pd.DataFrame) -> pd.DataFrame:\n",
        "        \"\"\"Create volume buckets in order to produce discrete quotation data.\n",
        "\n",
        "        Args:\n",
        "            df_in (pd.DataFrame): Raw quotes dataset.\n",
        "\n",
        "        Returns:\n",
        "            pd.DataFrame.\n",
        "\n",
        "        \"\"\"\n",
        "        # Initialize counter\n",
        "        count = 0\n",
        "        buy_volume = 0\n",
        "        sell_volume = 0\n",
        "        buckets_series = []\n",
        "        for index, row in df_in.iterrows():\n",
        "            new_volume = row['volume']\n",
        "            z = row['z']\n",
        "\n",
        "            # Fill the bucket until volume is reached\n",
        "            if self.BUCKET_SIZE < count + new_volume:\n",
        "                # Get supposed buy and sell volumes by z-value (assuming that large deviations are caused by toxic flow)\n",
        "                buy_volume = buy_volume + (self.BUCKET_SIZE - count) * z\n",
        "                sell_volume = sell_volume + (self.BUCKET_SIZE - count) * (1 - z)\n",
        "\n",
        "                buckets_series.append({'buy': buy_volume, 'sell': sell_volume, 'time': index})\n",
        "                count = new_volume - (self.BUCKET_SIZE - count)\n",
        "\n",
        "                # If bucket is not full, continue filling\n",
        "                if int(count / self.BUCKET_SIZE) > 0:\n",
        "                    for i in range(0, int(count / self.BUCKET_SIZE)):\n",
        "                        buy_volume = self.BUCKET_SIZE * z\n",
        "                        sell_volume = self.BUCKET_SIZE * (1 - z)\n",
        "                        buckets_series.append({'buy': buy_volume, 'sell': sell_volume, 'time': index})\n",
        "\n",
        "                count = count % self.BUCKET_SIZE\n",
        "                buy_volume = count * z\n",
        "                sell_volume = count * (1 - z)\n",
        "            else:\n",
        "                buy_volume = buy_volume + new_volume * z\n",
        "                sell_volume = sell_volume + new_volume * (1 - z)\n",
        "                count = count + new_volume\n",
        "\n",
        "        return pd.DataFrame(buckets_series).set_index('time')\n",
        "\n",
        "    def _calculate_vpin(self, resample_period) -> None:\n",
        "        \"\"\"Calculate VPiN metric and produce CDF for its values (in-place). Shows order flow toxicity.\n",
        "\n",
        "        Args:\n",
        "            resample_period (str): Timeframe at which the strategy operates (as per pandas definition).\n",
        "\n",
        "        Raises:\n",
        "            AssertionError: If the dataset provided is not a pandas.DataFrame.\n",
        "\n",
        "        \"\"\"\n",
        "        if self._dataset is None:\n",
        "            self._init_dataset()\n",
        "\n",
        "        assert isinstance(self._dataset, pd.DataFrame), f'Expected {pd.DataFrame}, got {type(self._dataset)}'\n",
        "\n",
        "        # Get resampled data\n",
        "        trades_resampled = self._dataset['vwap_traded'].diff(1).resample(resample_period).sum().dropna()\n",
        "        volume_resampled = self._dataset['volume_traded'].resample(resample_period).sum().dropna()\n",
        "\n",
        "        sigma = trades_resampled.std()\n",
        "        z = trades_resampled.apply(lambda x: norm.cdf(x / sigma))\n",
        "\n",
        "        # Create z-values and volumes DataFrame\n",
        "        vpin_df = pd.DataFrame({'z': z, 'volume': volume_resampled}).dropna()\n",
        "\n",
        "        # Collect buckets\n",
        "        buckets = self._create_buckets(vpin_df)\n",
        "\n",
        "        # Calculate VPiN by rolling window bucket supposed buy-sell deviations\n",
        "        buckets['VPIN'] = abs(buckets['buy'] - buckets['sell']).rolling(self.WINDOW_LENGTH).mean() / self.BUCKET_SIZE\n",
        "        buckets['VPIN_CDF'] = buckets['VPIN'].rank(pct=True)\n",
        "\n",
        "        buckets = buckets.reset_index().drop_duplicates(subset='time', keep='last').set_index('time')\n",
        "        buckets = buckets.dropna(subset=['VPIN_CDF'])\n",
        "\n",
        "        self._dataset = self._dataset.join(buckets)\n",
        "\n",
        "    def _calculate_quote_imbalance(self) -> None:\n",
        "        \"\"\"Calculate quotation imbalance metric (difference between bid-ask volumes times bid-ask prices)\n",
        "        and produce z-scores for its values (in-place). Shows skewness of the market quotes (in-place).\n",
        "\n",
        "        \"\"\"\n",
        "        avg_bid = self._dataset['bid_volume'] * self._dataset['bid'].apply(lambda x: int(x != 0))\n",
        "        avg_ask = self._dataset['ask_volume'] * self._dataset['ask'].apply(lambda x: int(x != 0))\n",
        "\n",
        "        imbalance = avg_bid - avg_ask\n",
        "\n",
        "        self._dataset['imbalance'] = self.get_z_score(imbalance)\n",
        "\n",
        "    def prepare_target_(self) -> None:\n",
        "        \"\"\"Calculate mid-price and returns for the strategy implementation.\"\"\"\n",
        "        self._dataset['mid'] = (self._dataset['bid'] + self._dataset['ask']) / 2\n",
        "        self._dataset['return'] = self._dataset['mid'].pct_change().shift(-1)\n",
        "        self._dataset['return_sign'] = self._dataset['return'].apply(lambda x: 1 if x > 0 else 0)\n",
        "        self._dataset.dropna(subset=['return'], inplace=True)\n",
        "\n",
        "    def _produce_weights(self):\n",
        "        \"\"\"Calculate weights for the asset in the strategy, based on features produced (in-place)\n",
        "        and strategy hyperparameters.\n",
        "\n",
        "        Note: Strategy does not require training on historical data, so the weights are set by heuristic rules\n",
        "              (as per paper).\n",
        "\n",
        "        \"\"\"\n",
        "        weights = []\n",
        "\n",
        "        position = 0\n",
        "        buy_count = 0\n",
        "        sell_count = 0\n",
        "\n",
        "        for index, row in self._dataset.iterrows():\n",
        "            # Trade only if the flow is toxic enough (informed trading signal), i.e. VPiN is high enough\n",
        "            if row['VPIN_CDF'] > self.vpin_threshold:\n",
        "                # If imbalance is skewed up, need to buy\n",
        "                if row['imbalance'] > self.imbalance_treshold:\n",
        "                    if position < 0:\n",
        "                        position = 0\n",
        "\n",
        "                    # Add gradually weights according to the set hyperparameter\n",
        "                    position += self.weight_increase\n",
        "                    buy_count = 10\n",
        "\n",
        "                # If imbalance is skewed down, need to sell\n",
        "                if row['imbalance'] < -self.imbalance_treshold:\n",
        "                    if position > 0:\n",
        "                        position = 0\n",
        "\n",
        "                    position -= self.weight_increase\n",
        "                    sell_count = 10\n",
        "\n",
        "            # Add gradually weights according to the set hyperparameter\n",
        "            if position > 0:\n",
        "                buy_count = buy_count - 1\n",
        "                if buy_count == 0:\n",
        "                    position = 0\n",
        "            elif position < 0:\n",
        "                sell_count = sell_count - 1\n",
        "                if sell_count == 0:\n",
        "                    position = 0\n",
        "\n",
        "            weights.append({'position': position, 'time': index})\n",
        "\n",
        "        weights = pd.DataFrame(weights).set_index('time')\n",
        "        self._weights = self._dataset.join(weights)\n",
        "\n",
        "    def get_trading_strategy(self) -> pd.DataFrame:\n",
        "        \"\"\"Produce weights for the asset, according to the VpinStrategy trading rules.\n",
        "\n",
        "        Returns:\n",
        "            pd.DataFrame\n",
        "\n",
        "        \"\"\"\n",
        "        self._init_dataset()\n",
        "        self._add_quote_volumes()\n",
        "\n",
        "        self._calculate_vpin(resample_period=self.RESAMPLE_PERIOD)\n",
        "        self._calculate_quote_imbalance()\n",
        "\n",
        "        self.prepare_target_()\n",
        "        self._produce_weights()\n",
        "\n",
        "        return self._weights"
      ],
      "metadata": {
        "id": "YwPamwhFZS-4"
      },
      "execution_count": 5,
      "outputs": []
    },
    {
      "cell_type": "markdown",
      "source": [
        "Dataset used will be composed from two core data types - trades (with bid-ask details at the moment of the trade) and quotes (bid-ask VWAPs)."
      ],
      "metadata": {
        "id": "ZpFvEdTc_FSO"
      }
    },
    {
      "cell_type": "markdown",
      "source": [
        "First of all, the trades data from MOEX screen for USDRUB_TOM is used. The data used is from 2017 to 2019 (resampled for 1 min already at the database level), as larger amount of data would be very hard to process."
      ],
      "metadata": {
        "id": "NSFVZZSG_QpK"
      }
    },
    {
      "cell_type": "code",
      "source": [
        "trades = pd.read_csv(f'{PATH}{ASSET}.csv', parse_dates=['time'])\n",
        "trades.rename(columns={\n",
        "    'Total_VOLUME_SUM': 'volume_traded',\n",
        "    'Total_VWAP_TRADED': 'vwap_traded',\n",
        "    'Total_SHARE_OF_BIDS': 'share_of_bids'\n",
        "}, inplace=True)"
      ],
      "metadata": {
        "id": "GqTaPQaWDRFU"
      },
      "execution_count": 6,
      "outputs": []
    },
    {
      "cell_type": "markdown",
      "source": [
        "Secondly, the quotes data is the resampled $500k VWAP bid-asks from USDRUB_TOM MOEX screen (for simplicity assuming that we do not execute _TOD deals).\n",
        "\n",
        "(!!!) Please, note that the data is already a VWAP (initially gathered as such), so no additional calculation of VWAP prices is present."
      ],
      "metadata": {
        "id": "_sn7787O_gnA"
      }
    },
    {
      "cell_type": "code",
      "source": [
        "quotes = pd.read_csv(f'{PATH}quotes_{ASSET}_resample_1min.csv', parse_dates=['timestamp'])\n",
        "quotes.rename(columns={\n",
        "    'timestamp': 'time',\n",
        "    'Bid': 'bid',\n",
        "    'Ask': 'ask'\n",
        "}, inplace=True)"
      ],
      "metadata": {
        "id": "9RNok3f9SHA-"
      },
      "execution_count": 7,
      "outputs": []
    },
    {
      "cell_type": "markdown",
      "source": [
        "Let's initialize strategy and induce pipline to get trading strategy details (signals and execution prices)."
      ],
      "metadata": {
        "id": "8ZIY2Cqd_-ZT"
      }
    },
    {
      "cell_type": "code",
      "source": [
        "# Initialize strategy factory\n",
        "vpin_strategy = VpinStrategy(\n",
        "    vpin_threshold=StrategyHyperparams.vpin_threshold,\n",
        "    imbalance_threshold=StrategyHyperparams.imbalance_threshold,\n",
        "    weight_increase=TradingParams.leverage, # Increase position to the maximum level possible\n",
        "    max_leverage=TradingParams.leverage,\n",
        "    trades=trades,\n",
        "    quotes=quotes\n",
        ")\n",
        "\n",
        "# Get trading signals for testing\n",
        "trading_strategy = vpin_strategy.get_trading_strategy()"
      ],
      "metadata": {
        "id": "40S3fRLcPz1W"
      },
      "execution_count": 8,
      "outputs": []
    },
    {
      "cell_type": "markdown",
      "source": [
        "Let's double-check that everything is correct by looking at features distribution."
      ],
      "metadata": {
        "id": "9f1pGmRAAF6t"
      }
    },
    {
      "cell_type": "code",
      "source": [
        "trading_strategy['VPIN_CDF'].hist()"
      ],
      "metadata": {
        "colab": {
          "base_uri": "https://localhost:8080/",
          "height": 447
        },
        "id": "q4BqlnhuEVLg",
        "outputId": "bb5da004-5b22-4d4d-b32a-9a7248f05839"
      },
      "execution_count": 9,
      "outputs": [
        {
          "output_type": "execute_result",
          "data": {
            "text/plain": [
              "<Axes: >"
            ]
          },
          "metadata": {},
          "execution_count": 9
        },
        {
          "output_type": "display_data",
          "data": {
            "text/plain": [
              "<Figure size 640x480 with 1 Axes>"
            ],
            "image/png": "[encoded data removed]"
          },
          "metadata": {}
        }
      ]
    },
    {
      "cell_type": "code",
      "source": [
        "trading_strategy['imbalance'].hist()"
      ],
      "metadata": {
        "colab": {
          "base_uri": "https://localhost:8080/",
          "height": 447
        },
        "id": "v0T7Dn7lEb4z",
        "outputId": "4351624c-d4e6-47f6-f9b7-12aaf65648a2"
      },
      "execution_count": 10,
      "outputs": [
        {
          "output_type": "execute_result",
          "data": {
            "text/plain": [
              "<Axes: >"
            ]
          },
          "metadata": {},
          "execution_count": 10
        },
        {
          "output_type": "display_data",
          "data": {
            "text/plain": [
              "<Figure size 640x480 with 1 Axes>"
            ],
            "image/png": "[encoded data removed]"
          },
          "metadata": {}
        }
      ]
    },
    {
      "cell_type": "markdown",
      "source": [
        "Let's transform weights into numpy for VectorBT implementation and impose restrictions on the \"No leverage\" condition."
      ],
      "metadata": {
        "id": "uUpBHPJrAMSC"
      }
    },
    {
      "cell_type": "code",
      "source": [
        "def get_weights(strategy_data: pd.DataFrame) -> np.array:\n",
        "    \"\"\"Get asset weights for strategy backtesting.\n",
        "\n",
        "    Args:\n",
        "        strategy_data (pd.DataFrame): Dataset with trading signals.\n",
        "\n",
        "    Returns:\n",
        "        numpy.ndarray.\n",
        "\n",
        "    \"\"\"\n",
        "    return np.array(strategy_data.iloc[:]['position'], dtype=np.float64)\n",
        "\n",
        "def restrict_leverage(weights: np.array, trading_config: dataclass) -> np.array:\n",
        "    \"\"\"Impose restrictions on asset weights by the maximum leverage.\n",
        "\n",
        "    Args:\n",
        "        weights (numpy.ndarray): Asset weights for strategy backtesting.\n",
        "\n",
        "    Returns:\n",
        "        numpy.ndarray.\n",
        "\n",
        "    \"\"\"\n",
        "    weights = np.where(weights > trading_config.leverage, trading_config.leverage, weights)\n",
        "    weights = np.where(weights < -trading_config.leverage, -trading_config.leverage, weights)\n",
        "    return weights"
      ],
      "metadata": {
        "id": "66UImTxDhkzH"
      },
      "execution_count": 11,
      "outputs": []
    },
    {
      "cell_type": "code",
      "source": [
        "weights = get_weights(trading_strategy)\n",
        "weights = restrict_leverage(weights, trading_config=TradingParams)\n",
        "np.unique(weights[weights != .0])"
      ],
      "metadata": {
        "colab": {
          "base_uri": "https://localhost:8080/"
        },
        "id": "KU6Gpllb4m61",
        "outputId": "d3f14567-b466-451f-9d02-df1d05eb0695"
      },
      "execution_count": 12,
      "outputs": [
        {
          "output_type": "execute_result",
          "data": {
            "text/plain": [
              "array([-1.,  1.])"
            ]
          },
          "metadata": {},
          "execution_count": 12
        }
      ]
    },
    {
      "cell_type": "markdown",
      "source": [
        "As it's assumed that VWAP mid is a good enough estimate for execution (and all other transaction costs are % of volume traded), let's use this simplified variant.\n",
        "\n",
        "However, a more correct approach would be to use bid-ask prices for the correct volume, so getting ask for positive positions (changes in position) and bid for negative ones as by the code below:\n",
        "\n",
        "\n",
        "```\n",
        "trading_strategy['execution_price'] = trading_strategy.shift(-1).apply(lambda row: row['ask'] if row['position'] > 0 else row['bid'], axis=1)\n",
        "trading_strategy[['bid', 'ask', 'execution_price']].head()\n",
        "```\n",
        "\n"
      ],
      "metadata": {
        "id": "mm42uAFEAZXH"
      }
    },
    {
      "cell_type": "markdown",
      "source": [
        "Let's create portfolio, based on weights introduced."
      ],
      "metadata": {
        "id": "7Csk2Jh5BOXT"
      }
    },
    {
      "cell_type": "code",
      "source": [
        "pf = vbt.Portfolio.from_orders(\n",
        "    freq='1min',\n",
        "    close=np.array(trading_strategy.iloc[:]['mid'], dtype=np.float64),\n",
        "    price=np.array(trading_strategy.iloc[:]['mid'].shift(1), dtype=np.float64), # .shift(1) - i.e., we get predict at minute(t) and trade at minute(t + 1)\n",
        "    size=weights,\n",
        "    size_type='targetpercent',\n",
        "    direction='both',\n",
        "    init_cash=TradingParams.initial_capital\n",
        ")"
      ],
      "metadata": {
        "id": "nG-EbOJ-g4av"
      },
      "execution_count": 13,
      "outputs": []
    },
    {
      "cell_type": "markdown",
      "source": [
        "The metrics, listed in the assignment, are presented below."
      ],
      "metadata": {
        "id": "DzNpptLoBSvT"
      }
    },
    {
      "cell_type": "code",
      "source": [
        "final_metrics = {\n",
        "    'Beta': pf.beta(),\n",
        "    'Sharpe Ratio': pf.sharpe_ratio(),\n",
        "    'Calmar Ratio': pf.calmar_ratio(),\n",
        "    'Total Return': pf.total_return(),\n",
        "    'Max Drawdown': pf.max_drawdown(),\n",
        "    'Accumulated Return / Maximimum Drawdown': pf.total_return() / abs(pf.max_drawdown()),\n",
        "    'VaR': pf.value_at_risk(),\n",
        "    'ES': pf.cond_value_at_risk()\n",
        "}"
      ],
      "metadata": {
        "id": "P15AGbMyNlFk"
      },
      "execution_count": 14,
      "outputs": []
    },
    {
      "cell_type": "code",
      "source": [
        "for metric_name, metric_value in final_metrics.items():\n",
        "    print(f'{metric_name} = {round(metric_value, 4)}')"
      ],
      "metadata": {
        "colab": {
          "base_uri": "https://localhost:8080/"
        },
        "id": "Jse7Bz_y8bua",
        "outputId": "43af63dd-683d-4b24-9f4a-5dae1535d0cf"
      },
      "execution_count": 15,
      "outputs": [
        {
          "output_type": "stream",
          "name": "stdout",
          "text": [
            "Beta = -0.0241\n",
            "Sharpe Ratio = 2.7963\n",
            "Calmar Ratio = 6.1956\n",
            "Total Return = 0.4473\n",
            "Max Drawdown = -0.0783\n",
            "Accumulated Return / Maximimum Drawdown = 5.7097\n",
            "VaR = -0.0003\n",
            "ES = -0.0005\n"
          ]
        }
      ]
    },
    {
      "cell_type": "markdown",
      "source": [
        "Let's check via assert that \"3. Limits on Backtest\" are satisfied."
      ],
      "metadata": {
        "id": "1ryMJzWK80VC"
      }
    },
    {
      "cell_type": "code",
      "source": [
        "assert final_metrics['Total Return'] > 0 and abs(final_metrics['Beta']) < 0.05 and final_metrics['Max Drawdown'] < 0.3, 'Backtest conditions violated!'"
      ],
      "metadata": {
        "id": "H1t_VQds8zDc"
      },
      "execution_count": 16,
      "outputs": []
    },
    {
      "cell_type": "markdown",
      "source": [
        "Also, overall metrics are presented as given per VectorBT framework."
      ],
      "metadata": {
        "id": "wbTfGP2UBf07"
      }
    },
    {
      "cell_type": "code",
      "source": [
        "pd.options.display.float_format = '{:.2f}'.format\n",
        "pf.stats(settings=dict(required_return=0.0, risk_free=0.0)).T"
      ],
      "metadata": {
        "colab": {
          "base_uri": "https://localhost:8080/"
        },
        "id": "yZ3PC1IfhPos",
        "outputId": "0913522c-b0e9-41fd-f882-d86b3ddc90d5"
      },
      "execution_count": 17,
      "outputs": [
        {
          "output_type": "execute_result",
          "data": {
            "text/plain": [
              "Start                                                 0\n",
              "End                                              491113\n",
              "Period                                341 days 01:14:00\n",
              "Start Value                                 20000000.00\n",
              "End Value                                   28945660.53\n",
              "Total Return [%]                                  44.73\n",
              "Benchmark Return [%]                               6.11\n",
              "Max Gross Exposure [%]                           101.00\n",
              "Total Fees Paid                                    0.00\n",
              "Max Drawdown [%]                                   7.83\n",
              "Max Drawdown Duration                 112 days 14:35:00\n",
              "Total Trades                                     164187\n",
              "Total Closed Trades                              164187\n",
              "Total Open Trades                                     0\n",
              "Open Trade PnL                                     0.00\n",
              "Win Rate [%]                                      42.62\n",
              "Best Trade [%]                                     1.43\n",
              "Worst Trade [%]                                   -0.86\n",
              "Avg Winning Trade [%]                              0.03\n",
              "Avg Losing Trade [%]                              -0.02\n",
              "Avg Winning Trade Duration    0 days 00:03:53.293794838\n",
              "Avg Losing Trade Duration     0 days 00:02:17.488200025\n",
              "Profit Factor                                      1.03\n",
              "Expectancy                                        51.41\n",
              "Sharpe Ratio                                       2.80\n",
              "Calmar Ratio                                       6.20\n",
              "Omega Ratio                                        1.01\n",
              "Sortino Ratio                                      4.05\n",
              "dtype: object"
            ]
          },
          "metadata": {},
          "execution_count": 17
        }
      ]
    },
    {
      "cell_type": "markdown",
      "source": [
        "Thanks a lot for checking my work!"
      ],
      "metadata": {
        "id": "SZnw66wRBpBe"
      }
    }
  ]
}